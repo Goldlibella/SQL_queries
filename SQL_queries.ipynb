{
 "cells": [
  {
   "cell_type": "markdown",
   "metadata": {},
   "source": [
    "## 1. Усердные ученики"
   ]
  },
  {
   "cell_type": "code",
   "execution_count": 302,
   "metadata": {},
   "outputs": [],
   "source": [
    "query = \"\"\"\n",
    "SELECT\n",
    "    COUNT(*) as diligent_students\n",
    "FROM\n",
    "    (SELECT \n",
    "         st_id\n",
    "    FROM default.peas\n",
    "    WHERE\n",
    "        toStartOfMonth(timest) == '2021-10-01' -- фильтруем по нужной дате\n",
    "    GROUP BY\n",
    "         st_id\n",
    "    HAVING\n",
    "         SUM(correct) >= 20)\n",
    "\"\"\""
   ]
  },
  {
   "cell_type": "markdown",
   "metadata": {},
   "source": [
    "## 2. Оптимизация воронки"
   ]
  },
  {
   "cell_type": "code",
   "execution_count": 303,
   "metadata": {},
   "outputs": [],
   "source": [
    "query = \"\"\"\n",
    "SELECT\n",
    "    test_grp,\n",
    "    round(sum(revenue) / uniqExact(st_id), 2) as ARPU,\n",
    "    round(sumIf(revenue, active_stud=1) / uniqExactIf(st_id, active_stud=1), 2) as ARPAU,\n",
    "    round(uniqExactIf(st_id, revenue > 0) / uniqExact(st_id) * 100, 2) as CR_to_buy,\n",
    "    round(uniqExactIf(st_id, active_stud=1 and revenue>0) / uniqExactIf(st_id, active_stud=1) * 100, 2) as CR_active,\n",
    "    round(uniqExactIf(st_id, math_active_stud=1 and math_revenue>0)/uniqExactIf(st_id, math_active_stud=1) * 100, 2) as CR_math\n",
    "FROM\n",
    "    (\n",
    "    SELECT \n",
    "        l.test_grp as test_grp,\n",
    "        l.st_id as st_id,\n",
    "        r.active_stud as active_stud,\n",
    "        r.math_active_stud as math_active_stud,\n",
    "        r.revenue as revenue,\n",
    "        r.math_revenue as math_revenue\n",
    "    FROM\n",
    "        (\n",
    "        SELECT\n",
    "            test_grp,\n",
    "            st_id\n",
    "        FROM default.studs\n",
    "        ) as l\n",
    "    LEFT JOIN\n",
    "        (\n",
    "        SELECT\n",
    "            l.st_id as st_id,\n",
    "            l.active_stud as active_stud,\n",
    "            l.math_active_stud as math_active_stud,\n",
    "            r.revenue as revenue,\n",
    "            r.math_revenue as math_revenue\n",
    "        FROM\n",
    "            (\n",
    "            SELECT\n",
    "                st_id,\n",
    "                if (sum(correct) > 10, 1, 0) as active_stud,\n",
    "                if (sumIf(correct, subject='Math') >= 2, 1, 0) as math_active_stud\n",
    "            FROM default.peas\n",
    "            GROUP BY\n",
    "                st_id\n",
    "            ) as l\n",
    "        LEFT JOIN\n",
    "            (\n",
    "            select\n",
    "                st_id,\n",
    "                sum(money) as revenue,\n",
    "                sumIf(money, subject='Math') as math_revenue\n",
    "            from default.final_project_check\n",
    "            group by st_id\n",
    "            ) as r\n",
    "        ON l.st_id = r.st_id\n",
    "        ) as r\n",
    "    ON l.st_id = r.st_id\n",
    "    )\n",
    "GROUP BY\n",
    "    test_grp\n",
    "\"\"\""
   ]
  }
 ],
 "metadata": {
  "kernelspec": {
   "display_name": "Python 3",
   "language": "python",
   "name": "python3"
  },
  "language_info": {
   "codemirror_mode": {
    "name": "ipython",
    "version": 3
   },
   "file_extension": ".py",
   "mimetype": "text/x-python",
   "name": "python",
   "nbconvert_exporter": "python",
   "pygments_lexer": "ipython3",
   "version": "3.7.3"
  }
 },
 "nbformat": 4,
 "nbformat_minor": 4
}
